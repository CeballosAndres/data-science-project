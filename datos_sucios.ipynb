{
 "cells": [
  {
   "cell_type": "markdown",
   "id": "d074a8ff-252a-4776-b52a-7b3c35a300a8",
   "metadata": {},
   "source": [
    "# Combinar xlsx de export comments\n",
    "Script para juntar los archivos de export comments en uno solo, incluyendo el id del post al que corresponde. "
   ]
  },
  {
   "cell_type": "code",
   "execution_count": 1,
   "id": "684007f6-0d70-4803-a3af-7fef818e4e64",
   "metadata": {},
   "outputs": [
    {
     "name": "stderr",
     "output_type": "stream",
     "text": [
      "/Users/andres/dev/python/facebook_scraping/env/lib/python3.10/site-packages/pandas/compat/__init__.py:124: UserWarning: Could not import the lzma module. Your installed Python is incomplete. Attempting to use lzma compression will result in a RuntimeError.\n",
      "  warnings.warn(msg)\n"
     ]
    }
   ],
   "source": [
    "# Requerimientos\n",
    "# pip install openpyxl\n",
    "\n",
    "# Importar\n",
    "import glob\n",
    "import openpyxl\n",
    "from pathlib import Path\n",
    "import pandas as pd"
   ]
  },
  {
   "cell_type": "code",
   "execution_count": 2,
   "id": "1b7a9f41-23a1-40cd-afce-52e6c7698885",
   "metadata": {},
   "outputs": [],
   "source": [
    "# Path a la carpeta con archivos xlsx a procesar\n",
    "path_dir = 'MargaritaMorenoColima'\n",
    "# Nombre del archivo de salida\n",
    "file_name = 'DS Margarita Moreno.xlsx'"
   ]
  },
  {
   "cell_type": "markdown",
   "id": "952e20a6-ada4-48e9-b751-afd6f93e801e",
   "metadata": {},
   "source": [
    "## Entendiendo la estructura del archivo"
   ]
  },
  {
   "cell_type": "code",
   "execution_count": 3,
   "id": "93788857-9b1c-4148-8778-b776fee0e43d",
   "metadata": {},
   "outputs": [],
   "source": [
    "# Obtener los archivos xlsx\n",
    "xlsx_files = [path for path in Path(path_dir).rglob('*.xlsx')]\n",
    "# Para purebas seleccionar solo el primer archivo\n",
    "xlsx_file = xlsx_files[0]\n",
    "# Instanciar objeto y activar unica hoja del xlsx\n",
    "wb_obj = openpyxl.load_workbook(xlsx_file)\n",
    "sheet = wb_obj.active"
   ]
  },
  {
   "cell_type": "code",
   "execution_count": 4,
   "id": "0430509d-9bda-4d3a-bc3a-cb28019a11f1",
   "metadata": {},
   "outputs": [
    {
     "name": "stdout",
     "output_type": "stream",
     "text": [
      "141491397977758\n"
     ]
    }
   ],
   "source": [
    "# El id del post está en el link que se ubica en B2\n",
    "print(sheet['B2'].value.split('/')[-1].split('?')[0])"
   ]
  },
  {
   "cell_type": "code",
   "execution_count": 5,
   "id": "ad031aeb-0607-4762-8b85-88afd439557f",
   "metadata": {},
   "outputs": [
    {
     "name": "stdout",
     "output_type": "stream",
     "text": [
      "Lola Marquez ID: 1273157993 2021-04-13 13:37:39 2 None Buenos días\n",
      "[PHOTO] https://external.fman4-2.fna.fbcdn.net/safe_image.php?d=AQHp5Z3hfzYJm8P6&w=396&h=396&url=https%3A%2F%2Fmedia0.giphy.com%2Fmedia%2Fv1.Y2lkPTEyMGMwMTQ3aWxxdWVmMzk2Y3JjYzYwaHBzODJzM2dtc2FpejZuZnRpNmVxb3Vvaw%2FLb4IZLmCfALhm%2Fgiphy.gif&ext=jpg&_nc_oe=6ef14&_nc_sid=220845&ccb=3-5&_nc_hash=AQE7NocOOFHj8Y7f view comment \n",
      "Mayra Alejandra Evangelista Leal ID: 100000111377694 2021-04-13 13:55:37 1 None Con todo Margarita Moreno  ❤💙💛 view comment \n",
      "Efrain Medina Soto ID: 100009900467169 2021-04-13 14:51:09 1 None UN ABRAZO MARGARITA view comment \n",
      "Andrea Cortes ID: 100063630430132 2021-04-13 15:47:46 1 None Desde el cielo ella la guiara . Un abrazo con aprecio view comment \n"
     ]
    }
   ],
   "source": [
    "# Desplegar los primeros 3 registros del xlsx\n",
    "# Se muestran desde el renglón 7, antes son espacios en blanco y link\n",
    "for row in sheet.iter_rows(min_row=7, max_row=10, min_col=3, max_col=9):\n",
    "    for cell in row:\n",
    "        print(cell.value, end=\" \")\n",
    "    print()"
   ]
  },
  {
   "cell_type": "code",
   "execution_count": 6,
   "id": "e63c1d6d-d549-4154-be5c-1974ef67299f",
   "metadata": {},
   "outputs": [
    {
     "name": "stdout",
     "output_type": "stream",
     "text": [
      "24 9\n"
     ]
    }
   ],
   "source": [
    "# Verificar los renglones (el ultimo renglón no tiene valores) y columnas\n",
    "print(sheet.max_row, sheet.max_column)"
   ]
  },
  {
   "cell_type": "code",
   "execution_count": 7,
   "id": "a3ecd98a-60ee-47d7-8a1d-79d08a32afad",
   "metadata": {},
   "outputs": [
    {
     "name": "stdout",
     "output_type": "stream",
     "text": [
      "https://www.exportcomments.com/done/9c93477a-cc5d-4dcb-b0b9-a7a03a8a9a82/preview/141495294644035\n",
      "141495294644035\n"
     ]
    }
   ],
   "source": [
    "# Obtener link en una celda\n",
    "comment_link = sheet['I7'].hyperlink.target\n",
    "print(comment_link)\n",
    "# Limpiar link para sólo conservar el id\n",
    "comment_id = comment_link.split('/')[-1]\n",
    "print(comment_id)"
   ]
  },
  {
   "cell_type": "markdown",
   "id": "02be6651-1b4b-40a6-89c4-5ceadfde8330",
   "metadata": {},
   "source": [
    "## Juntando archivos\n",
    "Consideraciones\n",
    "- No tener abierto los archivos\n",
    "- Solo tener archivos exportado por export comments en la carpeta"
   ]
  },
  {
   "cell_type": "code",
   "execution_count": 8,
   "id": "e7fec072-228a-467a-b7c1-f214557267e4",
   "metadata": {},
   "outputs": [],
   "source": [
    "def get_post_id(sheet):\n",
    "    return [sheet['B2'].value.split('/')[-1].split('?')[0]]"
   ]
  },
  {
   "cell_type": "code",
   "execution_count": 9,
   "id": "0870b792-607b-4616-9289-3f0242567960",
   "metadata": {
    "tags": []
   },
   "outputs": [],
   "source": [
    "def get_data_row(row):\n",
    "    user_name = row[0].value\n",
    "    profile_id = row[1].value.split(' ')[-1]\n",
    "    date_time = row[2].value\n",
    "    likes = row[3].value\n",
    "    comments = row[5].value\n",
    "    # Obtener link del comentario\n",
    "    comment_link = row[6].hyperlink.target\n",
    "    # Limpiar y guaardar sólo id\n",
    "    comment_id = comment_link.split('/')[-1]\n",
    "    return [user_name, profile_id, date_time, likes, comments, comment_id]"
   ]
  },
  {
   "cell_type": "code",
   "execution_count": 10,
   "id": "e9f9ba01-1115-4bbc-b70d-9b34a99e6124",
   "metadata": {},
   "outputs": [],
   "source": [
    "# Nombres de columnas\n",
    "columns = ['post_id','user_name','profile_id','date_time','likes','comments','comment_id']\n",
    "data = []\n",
    "\n",
    "# Obteniendo todos los archivos xlsx\n",
    "xlsx_files = [path for path in Path(path_dir).rglob('*.xlsx')]\n",
    "# Generando objetos para cada archivo\n",
    "wb_objects = [openpyxl.load_workbook(wb) for wb in xlsx_files]\n",
    "\n",
    "# Procesando todos los objetos xlsx\n",
    "for wb_obj in wb_objects:\n",
    "    sheet = wb_obj.active\n",
    "    post_id = get_post_id(sheet)\n",
    "    # El maximo renglón a procesar es -1 ya que el último es de valores nulos\n",
    "    max_row = sheet.max_row - 1\n",
    "    # Procesado de todos los valores con función get_data_row y get_post_id\n",
    "    for row in sheet.iter_rows(min_row=7, max_row=max_row, min_col=3, max_col=9):\n",
    "        comment_data = post_id + get_data_row(row)\n",
    "        # El rengló se agrega a la lista\n",
    "        data.append(comment_data)\n",
    "        \n",
    "# Con los datos y columnas se genera el dataframe\n",
    "df = pd.DataFrame(data, columns=columns)"
   ]
  },
  {
   "cell_type": "markdown",
   "id": "1642b4ef-4044-4b86-8b94-b38747ce6628",
   "metadata": {},
   "source": [
    "### Revisando datos del dataframe"
   ]
  },
  {
   "cell_type": "code",
   "execution_count": 11,
   "id": "f8500140-b0d7-4d42-80c2-0536f013c64f",
   "metadata": {},
   "outputs": [
    {
     "name": "stdout",
     "output_type": "stream",
     "text": [
      "<class 'pandas.core.frame.DataFrame'>\n",
      "RangeIndex: 5535 entries, 0 to 5534\n",
      "Data columns (total 7 columns):\n",
      " #   Column      Non-Null Count  Dtype         \n",
      "---  ------      --------------  -----         \n",
      " 0   post_id     5535 non-null   object        \n",
      " 1   user_name   5535 non-null   object        \n",
      " 2   profile_id  5535 non-null   object        \n",
      " 3   date_time   5535 non-null   datetime64[ns]\n",
      " 4   likes       5535 non-null   int64         \n",
      " 5   comments    5535 non-null   object        \n",
      " 6   comment_id  5535 non-null   object        \n",
      "dtypes: datetime64[ns](1), int64(1), object(5)\n",
      "memory usage: 302.8+ KB\n"
     ]
    }
   ],
   "source": [
    "df.info()"
   ]
  },
  {
   "cell_type": "code",
   "execution_count": 12,
   "id": "bc83cbdf-2235-4d73-950f-708786a42ef2",
   "metadata": {},
   "outputs": [
    {
     "data": {
      "text/html": [
       "<div>\n",
       "<style scoped>\n",
       "    .dataframe tbody tr th:only-of-type {\n",
       "        vertical-align: middle;\n",
       "    }\n",
       "\n",
       "    .dataframe tbody tr th {\n",
       "        vertical-align: top;\n",
       "    }\n",
       "\n",
       "    .dataframe thead th {\n",
       "        text-align: right;\n",
       "    }\n",
       "</style>\n",
       "<table border=\"1\" class=\"dataframe\">\n",
       "  <thead>\n",
       "    <tr style=\"text-align: right;\">\n",
       "      <th></th>\n",
       "      <th>post_id</th>\n",
       "      <th>user_name</th>\n",
       "      <th>profile_id</th>\n",
       "      <th>date_time</th>\n",
       "      <th>likes</th>\n",
       "      <th>comments</th>\n",
       "      <th>comment_id</th>\n",
       "    </tr>\n",
       "  </thead>\n",
       "  <tbody>\n",
       "    <tr>\n",
       "      <th>0</th>\n",
       "      <td>141491397977758</td>\n",
       "      <td>Lola Marquez</td>\n",
       "      <td>1273157993</td>\n",
       "      <td>2021-04-13 13:37:39</td>\n",
       "      <td>2</td>\n",
       "      <td>Buenos días\\n[PHOTO] https://external.fman4-2....</td>\n",
       "      <td>141495294644035</td>\n",
       "    </tr>\n",
       "    <tr>\n",
       "      <th>1</th>\n",
       "      <td>141491397977758</td>\n",
       "      <td>Mayra Alejandra Evangelista Leal</td>\n",
       "      <td>100000111377694</td>\n",
       "      <td>2021-04-13 13:55:37</td>\n",
       "      <td>1</td>\n",
       "      <td>Con todo Margarita Moreno  ❤💙💛</td>\n",
       "      <td>141508141309417</td>\n",
       "    </tr>\n",
       "    <tr>\n",
       "      <th>2</th>\n",
       "      <td>141491397977758</td>\n",
       "      <td>Efrain Medina Soto</td>\n",
       "      <td>100009900467169</td>\n",
       "      <td>2021-04-13 14:51:09</td>\n",
       "      <td>1</td>\n",
       "      <td>UN ABRAZO MARGARITA</td>\n",
       "      <td>141540954639469</td>\n",
       "    </tr>\n",
       "    <tr>\n",
       "      <th>3</th>\n",
       "      <td>141491397977758</td>\n",
       "      <td>Andrea Cortes</td>\n",
       "      <td>100063630430132</td>\n",
       "      <td>2021-04-13 15:47:46</td>\n",
       "      <td>1</td>\n",
       "      <td>Desde el cielo ella la guiara . Un abrazo con ...</td>\n",
       "      <td>141575194636045</td>\n",
       "    </tr>\n",
       "    <tr>\n",
       "      <th>4</th>\n",
       "      <td>141491397977758</td>\n",
       "      <td>La More Corona</td>\n",
       "      <td>100028791736347</td>\n",
       "      <td>2021-04-13 18:00:37</td>\n",
       "      <td>1</td>\n",
       "      <td>Es la señora, Nora</td>\n",
       "      <td>141644971295734</td>\n",
       "    </tr>\n",
       "  </tbody>\n",
       "</table>\n",
       "</div>"
      ],
      "text/plain": [
       "           post_id                         user_name       profile_id  \\\n",
       "0  141491397977758                      Lola Marquez       1273157993   \n",
       "1  141491397977758  Mayra Alejandra Evangelista Leal  100000111377694   \n",
       "2  141491397977758                Efrain Medina Soto  100009900467169   \n",
       "3  141491397977758                     Andrea Cortes  100063630430132   \n",
       "4  141491397977758                    La More Corona  100028791736347   \n",
       "\n",
       "            date_time  likes  \\\n",
       "0 2021-04-13 13:37:39      2   \n",
       "1 2021-04-13 13:55:37      1   \n",
       "2 2021-04-13 14:51:09      1   \n",
       "3 2021-04-13 15:47:46      1   \n",
       "4 2021-04-13 18:00:37      1   \n",
       "\n",
       "                                            comments       comment_id  \n",
       "0  Buenos días\\n[PHOTO] https://external.fman4-2....  141495294644035  \n",
       "1                     Con todo Margarita Moreno  ❤💙💛  141508141309417  \n",
       "2                                UN ABRAZO MARGARITA  141540954639469  \n",
       "3  Desde el cielo ella la guiara . Un abrazo con ...  141575194636045  \n",
       "4                                 Es la señora, Nora  141644971295734  "
      ]
     },
     "execution_count": 12,
     "metadata": {},
     "output_type": "execute_result"
    }
   ],
   "source": [
    "df.head(5)"
   ]
  },
  {
   "cell_type": "markdown",
   "id": "2161febf-da42-4810-b1ac-233d8f61fcb0",
   "metadata": {},
   "source": [
    "### Guardando en archivo"
   ]
  },
  {
   "cell_type": "code",
   "execution_count": 13,
   "id": "1ecd08df-5ae7-4775-90ac-9922c1ec924b",
   "metadata": {},
   "outputs": [],
   "source": [
    "df.to_excel(file_name, sheet_name='Comments', header=True, index=False)"
   ]
  },
  {
   "cell_type": "markdown",
   "id": "db5b4c1d-2717-464d-8a00-38ecbffc5c86",
   "metadata": {},
   "source": [
    "## Referencias"
   ]
  },
  {
   "cell_type": "markdown",
   "id": "37254209-bb59-45a5-b475-d522d49d34a1",
   "metadata": {},
   "source": [
    "- https://www.marsja.se/your-guide-to-reading-excel-xlsx-files-in-python/\n",
    "- https://stackoverflow.com/questions/29792134/how-we-can-use-iter-rows-in-python-openpyxl-package\n",
    "- https://openpyxl.readthedocs.io/en/stable/datetime.html\n",
    "- https://newbedev.com/extracting-hyperlinks-from-excel-xlsx-with-python\n",
    "- https://pandas.pydata.org/docs/reference/api/pandas.DataFrame.to_excel.html"
   ]
  }
 ],
 "metadata": {
  "kernelspec": {
   "display_name": "Python 3 (ipykernel)",
   "language": "python",
   "name": "python3"
  },
  "language_info": {
   "codemirror_mode": {
    "name": "ipython",
    "version": 3
   },
   "file_extension": ".py",
   "mimetype": "text/x-python",
   "name": "python",
   "nbconvert_exporter": "python",
   "pygments_lexer": "ipython3",
   "version": "3.10.0"
  }
 },
 "nbformat": 4,
 "nbformat_minor": 5
}
