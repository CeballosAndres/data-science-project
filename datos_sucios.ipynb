{
 "cells": [
  {
   "cell_type": "markdown",
   "id": "d074a8ff-252a-4776-b52a-7b3c35a300a8",
   "metadata": {},
   "source": [
    "# Combinar xlsx de export comments\n",
    "Script para juntar los archivos de export comments en uno solo, incluyendo el id del post al que corresponde. "
   ]
  },
  {
   "cell_type": "code",
   "execution_count": 2,
   "id": "684007f6-0d70-4803-a3af-7fef818e4e64",
   "metadata": {},
   "outputs": [],
   "source": [
    "# Requerimientos\n",
    "# pip install openpyxl\n",
    "\n",
    "# Importar\n",
    "import glob\n",
    "import openpyxl\n",
    "from pathlib import Path\n",
    "import pandas as pd"
   ]
  },
  {
   "cell_type": "code",
   "execution_count": 3,
   "id": "1b7a9f41-23a1-40cd-afce-52e6c7698885",
   "metadata": {},
   "outputs": [],
   "source": [
    "# Path a la carpeta con archivos xlsx a procesar\n",
    "path_dir = 'virgiliomendozaa'\n",
    "# Nombre del archivo de salida\n",
    "file_name = 'DS Virgilio Mendoza.xlsx'"
   ]
  },
  {
   "cell_type": "markdown",
   "id": "952e20a6-ada4-48e9-b751-afd6f93e801e",
   "metadata": {},
   "source": [
    "## Entendiendo la estructura del archivo"
   ]
  },
  {
   "cell_type": "code",
   "execution_count": 4,
   "id": "93788857-9b1c-4148-8778-b776fee0e43d",
   "metadata": {},
   "outputs": [],
   "source": [
    "# Obtener los archivos xlsx\n",
    "xlsx_files = [path for path in Path(path_dir).rglob('*.xlsx')]\n",
    "# Para purebas seleccionar solo el primer archivo\n",
    "xlsx_file = xlsx_files[0]\n",
    "# Instanciar objeto y activar unica hoja del xlsx\n",
    "wb_obj = openpyxl.load_workbook(xlsx_file)\n",
    "sheet = wb_obj.active"
   ]
  },
  {
   "cell_type": "code",
   "execution_count": 5,
   "id": "0430509d-9bda-4d3a-bc3a-cb28019a11f1",
   "metadata": {},
   "outputs": [
    {
     "name": "stdout",
     "output_type": "stream",
     "text": [
      "327215485429583\n"
     ]
    }
   ],
   "source": [
    "# El id del post está en el link que se ubica en B2\n",
    "print(sheet['B2'].value.split('/')[-1].split('?')[0])"
   ]
  },
  {
   "cell_type": "code",
   "execution_count": 6,
   "id": "ad031aeb-0607-4762-8b85-88afd439557f",
   "metadata": {},
   "outputs": [
    {
     "name": "stdout",
     "output_type": "stream",
     "text": [
      "Oscar Fco Ramírez ID: 598705107 2021-05-06 16:15:53 2 None VAMOS CON TODO ....  #VAMOSVERDES  !!!!   💚✌💚✌💚✌   view comment \n",
      "Hiram Rigoberto Martinez Nuñez ID: 100036892331855 2021-05-06 16:16:33 0 None vamos con todo\n",
      "[PHOTO] https://external.fiqt2-1.fna.fbcdn.net/safe_image.php?d=AQEURsv827fPrnrS&w=396&h=221&url=https%3A%2F%2Fmedia1.tenor.co%2Fimages%2Fd3683f994db8fef6b22d284fe64f301f%2Ftenor.gif%3Fitemid%3D15989998&sx=0&sy=0&sw=640&sh=357&ext=emg0&_nc_oe=6ef07&_nc_sid=632586&ccb=3-5&_nc_hash=AQEtegQIJW5I3FVQ view comment \n",
      "Elva Larios ID: 100023679033955 2021-05-06 16:19:29 0 None Tu experiencia y el apoyo que has brindado a tu gente, te respaldan, Virgilio Mendoza próximo gobernador de Colima VERDE 💚💚💚💚💚💚💚 view comment \n",
      "Gloria Andrade ID: 100015002491697 2021-05-06 16:20:39 2 None \n",
      "[PHOTO] https://scontent.fiqt2-1.fna.fbcdn.net/v/t1.6435-9/s600x600/182872655_1109475749562498_4223984717201769315_n.jpg?_nc_cat=111&ccb=1-5&_nc_sid=dbeb18&_nc_ohc=GWIi48M1o4wAX_kyh6X&_nc_ht=scontent.fiqt2-1.fna&oh=46d56a8ba9df85d317b9d9b9ccffc0d6&oe=61A1EB54 view comment \n"
     ]
    }
   ],
   "source": [
    "# Desplegar los primeros 3 registros del xlsx\n",
    "# Se muestran desde el renglón 7, antes son espacios en blanco y link\n",
    "for row in sheet.iter_rows(min_row=7, max_row=10, min_col=3, max_col=9):\n",
    "    for cell in row:\n",
    "        print(cell.value, end=\" \")\n",
    "    print()"
   ]
  },
  {
   "cell_type": "code",
   "execution_count": 7,
   "id": "e63c1d6d-d549-4154-be5c-1974ef67299f",
   "metadata": {},
   "outputs": [
    {
     "name": "stdout",
     "output_type": "stream",
     "text": [
      "135 9\n"
     ]
    }
   ],
   "source": [
    "# Verificar los renglones (el ultimo renglón no tiene valores) y columnas\n",
    "print(sheet.max_row, sheet.max_column)"
   ]
  },
  {
   "cell_type": "code",
   "execution_count": 8,
   "id": "a3ecd98a-60ee-47d7-8a1d-79d08a32afad",
   "metadata": {},
   "outputs": [
    {
     "name": "stdout",
     "output_type": "stream",
     "text": [
      "https://www.exportcomments.com/done/a483fb4b-3949-4266-99c4-ab289e5a0710/preview/327217365429395\n",
      "327217365429395\n"
     ]
    }
   ],
   "source": [
    "# Obtener link en una celda\n",
    "comment_link = sheet['I7'].hyperlink.target\n",
    "print(comment_link)\n",
    "# Limpiar link para sólo conservar el id\n",
    "comment_id = comment_link.split('/')[-1]\n",
    "print(comment_id)"
   ]
  },
  {
   "cell_type": "markdown",
   "id": "02be6651-1b4b-40a6-89c4-5ceadfde8330",
   "metadata": {},
   "source": [
    "## Juntando archivos\n",
    "Consideraciones\n",
    "- No tener abierto los archivos\n",
    "- Solo tener archivos exportado por export comments en la carpeta"
   ]
  },
  {
   "cell_type": "code",
   "execution_count": 9,
   "id": "e7fec072-228a-467a-b7c1-f214557267e4",
   "metadata": {},
   "outputs": [],
   "source": [
    "def get_post_id(sheet):\n",
    "    return [sheet['B2'].value.split('/')[-1].split('?')[0]]"
   ]
  },
  {
   "cell_type": "code",
   "execution_count": 10,
   "id": "0870b792-607b-4616-9289-3f0242567960",
   "metadata": {
    "tags": []
   },
   "outputs": [],
   "source": [
    "def get_data_row(row):\n",
    "    user_name = row[0].value\n",
    "    profile_id = row[1].value.split(' ')[-1]\n",
    "    date_time = row[2].value\n",
    "    likes = row[3].value\n",
    "    comments = row[5].value\n",
    "    # Obtener link del comentario\n",
    "    comment_link = row[6].hyperlink.target\n",
    "    # Limpiar y guaardar sólo id\n",
    "    comment_id = comment_link.split('/')[-1]\n",
    "    return [user_name, profile_id, date_time, likes, comments, comment_id]"
   ]
  },
  {
   "cell_type": "code",
   "execution_count": 11,
   "id": "e9f9ba01-1115-4bbc-b70d-9b34a99e6124",
   "metadata": {},
   "outputs": [],
   "source": [
    "# Nombres de columnas\n",
    "columns = ['post_id','user_name','profile_id','date_time','likes','comments','comment_id']\n",
    "data = []\n",
    "\n",
    "# Obteniendo todos los archivos xlsx\n",
    "xlsx_files = [path for path in Path(path_dir).rglob('*.xlsx')]\n",
    "# Generando objetos para cada archivo\n",
    "wb_objects = [openpyxl.load_workbook(wb) for wb in xlsx_files]\n",
    "\n",
    "# Procesando todos los objetos xlsx\n",
    "for wb_obj in wb_objects:\n",
    "    sheet = wb_obj.active\n",
    "    post_id = get_post_id(sheet)\n",
    "    # El maximo renglón a procesar es -1 ya que el último es de valores nulos\n",
    "    max_row = sheet.max_row - 1\n",
    "    # Procesado de todos los valores con función get_data_row y get_post_id\n",
    "    for row in sheet.iter_rows(min_row=7, max_row=max_row, min_col=3, max_col=9):\n",
    "        comment_data = post_id + get_data_row(row)\n",
    "        # El rengló se agrega a la lista\n",
    "        data.append(comment_data)\n",
    "        \n",
    "# Con los datos y columnas se genera el dataframe\n",
    "df = pd.DataFrame(data, columns=columns)"
   ]
  },
  {
   "cell_type": "markdown",
   "id": "1642b4ef-4044-4b86-8b94-b38747ce6628",
   "metadata": {},
   "source": [
    "### Revisando datos del dataframe"
   ]
  },
  {
   "cell_type": "code",
   "execution_count": 12,
   "id": "f8500140-b0d7-4d42-80c2-0536f013c64f",
   "metadata": {},
   "outputs": [
    {
     "name": "stdout",
     "output_type": "stream",
     "text": [
      "<class 'pandas.core.frame.DataFrame'>\n",
      "RangeIndex: 26431 entries, 0 to 26430\n",
      "Data columns (total 7 columns):\n",
      " #   Column      Non-Null Count  Dtype         \n",
      "---  ------      --------------  -----         \n",
      " 0   post_id     26431 non-null  object        \n",
      " 1   user_name   26431 non-null  object        \n",
      " 2   profile_id  26431 non-null  object        \n",
      " 3   date_time   26431 non-null  datetime64[ns]\n",
      " 4   likes       26431 non-null  int64         \n",
      " 5   comments    26430 non-null  object        \n",
      " 6   comment_id  26431 non-null  object        \n",
      "dtypes: datetime64[ns](1), int64(1), object(5)\n",
      "memory usage: 1.4+ MB\n"
     ]
    }
   ],
   "source": [
    "df.info()"
   ]
  },
  {
   "cell_type": "code",
   "execution_count": 13,
   "id": "bc83cbdf-2235-4d73-950f-708786a42ef2",
   "metadata": {},
   "outputs": [
    {
     "data": {
      "text/html": [
       "<div>\n",
       "<style scoped>\n",
       "    .dataframe tbody tr th:only-of-type {\n",
       "        vertical-align: middle;\n",
       "    }\n",
       "\n",
       "    .dataframe tbody tr th {\n",
       "        vertical-align: top;\n",
       "    }\n",
       "\n",
       "    .dataframe thead th {\n",
       "        text-align: right;\n",
       "    }\n",
       "</style>\n",
       "<table border=\"1\" class=\"dataframe\">\n",
       "  <thead>\n",
       "    <tr style=\"text-align: right;\">\n",
       "      <th></th>\n",
       "      <th>post_id</th>\n",
       "      <th>user_name</th>\n",
       "      <th>profile_id</th>\n",
       "      <th>date_time</th>\n",
       "      <th>likes</th>\n",
       "      <th>comments</th>\n",
       "      <th>comment_id</th>\n",
       "    </tr>\n",
       "  </thead>\n",
       "  <tbody>\n",
       "    <tr>\n",
       "      <th>0</th>\n",
       "      <td>327215485429583</td>\n",
       "      <td>Oscar Fco Ramírez</td>\n",
       "      <td>598705107</td>\n",
       "      <td>2021-05-06 16:15:53</td>\n",
       "      <td>2</td>\n",
       "      <td>VAMOS CON TODO ....  #VAMOSVERDES  !!!!   💚✌💚✌...</td>\n",
       "      <td>327217365429395</td>\n",
       "    </tr>\n",
       "    <tr>\n",
       "      <th>1</th>\n",
       "      <td>327215485429583</td>\n",
       "      <td>Hiram Rigoberto Martinez Nuñez</td>\n",
       "      <td>100036892331855</td>\n",
       "      <td>2021-05-06 16:16:33</td>\n",
       "      <td>0</td>\n",
       "      <td>vamos con todo\\n[PHOTO] https://external.fiqt2...</td>\n",
       "      <td>327217635429368</td>\n",
       "    </tr>\n",
       "    <tr>\n",
       "      <th>2</th>\n",
       "      <td>327215485429583</td>\n",
       "      <td>Elva Larios</td>\n",
       "      <td>100023679033955</td>\n",
       "      <td>2021-05-06 16:19:29</td>\n",
       "      <td>0</td>\n",
       "      <td>Tu experiencia y el apoyo que has brindado a t...</td>\n",
       "      <td>327218888762576</td>\n",
       "    </tr>\n",
       "    <tr>\n",
       "      <th>3</th>\n",
       "      <td>327215485429583</td>\n",
       "      <td>Gloria Andrade</td>\n",
       "      <td>100015002491697</td>\n",
       "      <td>2021-05-06 16:20:39</td>\n",
       "      <td>2</td>\n",
       "      <td>\\n[PHOTO] https://scontent.fiqt2-1.fna.fbcdn.n...</td>\n",
       "      <td>327219572095841</td>\n",
       "    </tr>\n",
       "    <tr>\n",
       "      <th>4</th>\n",
       "      <td>327215485429583</td>\n",
       "      <td>Gloria Andrade</td>\n",
       "      <td>100015002491697</td>\n",
       "      <td>2021-05-06 16:20:47</td>\n",
       "      <td>2</td>\n",
       "      <td>\\n[PHOTO] https://scontent.fiqt2-1.fna.fbcdn.n...</td>\n",
       "      <td>327219635429168</td>\n",
       "    </tr>\n",
       "  </tbody>\n",
       "</table>\n",
       "</div>"
      ],
      "text/plain": [
       "           post_id                       user_name       profile_id  \\\n",
       "0  327215485429583               Oscar Fco Ramírez        598705107   \n",
       "1  327215485429583  Hiram Rigoberto Martinez Nuñez  100036892331855   \n",
       "2  327215485429583                     Elva Larios  100023679033955   \n",
       "3  327215485429583                  Gloria Andrade  100015002491697   \n",
       "4  327215485429583                  Gloria Andrade  100015002491697   \n",
       "\n",
       "            date_time  likes  \\\n",
       "0 2021-05-06 16:15:53      2   \n",
       "1 2021-05-06 16:16:33      0   \n",
       "2 2021-05-06 16:19:29      0   \n",
       "3 2021-05-06 16:20:39      2   \n",
       "4 2021-05-06 16:20:47      2   \n",
       "\n",
       "                                            comments       comment_id  \n",
       "0  VAMOS CON TODO ....  #VAMOSVERDES  !!!!   💚✌💚✌...  327217365429395  \n",
       "1  vamos con todo\\n[PHOTO] https://external.fiqt2...  327217635429368  \n",
       "2  Tu experiencia y el apoyo que has brindado a t...  327218888762576  \n",
       "3  \\n[PHOTO] https://scontent.fiqt2-1.fna.fbcdn.n...  327219572095841  \n",
       "4  \\n[PHOTO] https://scontent.fiqt2-1.fna.fbcdn.n...  327219635429168  "
      ]
     },
     "execution_count": 13,
     "metadata": {},
     "output_type": "execute_result"
    }
   ],
   "source": [
    "df.head(5)"
   ]
  },
  {
   "cell_type": "markdown",
   "id": "2161febf-da42-4810-b1ac-233d8f61fcb0",
   "metadata": {},
   "source": [
    "### Guardando en archivo"
   ]
  },
  {
   "cell_type": "code",
   "execution_count": 14,
   "id": "1ecd08df-5ae7-4775-90ac-9922c1ec924b",
   "metadata": {},
   "outputs": [],
   "source": [
    "df.to_excel(file_name, sheet_name='Comments', header=True, index=False)"
   ]
  },
  {
   "cell_type": "markdown",
   "id": "db5b4c1d-2717-464d-8a00-38ecbffc5c86",
   "metadata": {},
   "source": [
    "## Referencias"
   ]
  },
  {
   "cell_type": "markdown",
   "id": "37254209-bb59-45a5-b475-d522d49d34a1",
   "metadata": {},
   "source": [
    "- https://www.marsja.se/your-guide-to-reading-excel-xlsx-files-in-python/\n",
    "- https://stackoverflow.com/questions/29792134/how-we-can-use-iter-rows-in-python-openpyxl-package\n",
    "- https://openpyxl.readthedocs.io/en/stable/datetime.html\n",
    "- https://newbedev.com/extracting-hyperlinks-from-excel-xlsx-with-python\n",
    "- https://pandas.pydata.org/docs/reference/api/pandas.DataFrame.to_excel.html"
   ]
  }
 ],
 "metadata": {
  "kernelspec": {
   "display_name": "Python 3 (ipykernel)",
   "language": "python",
   "name": "python3"
  },
  "language_info": {
   "codemirror_mode": {
    "name": "ipython",
    "version": 3
   },
   "file_extension": ".py",
   "mimetype": "text/x-python",
   "name": "python",
   "nbconvert_exporter": "python",
   "pygments_lexer": "ipython3",
   "version": "3.10.0"
  }
 },
 "nbformat": 4,
 "nbformat_minor": 5
}
